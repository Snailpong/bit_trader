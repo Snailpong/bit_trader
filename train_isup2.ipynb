{
 "metadata": {
  "language_info": {
   "codemirror_mode": {
    "name": "ipython",
    "version": 3
   },
   "file_extension": ".py",
   "mimetype": "text/x-python",
   "name": "python",
   "nbconvert_exporter": "python",
   "pygments_lexer": "ipython3",
   "version": "3.8.3"
  },
  "orig_nbformat": 2,
  "kernelspec": {
   "name": "python383jvsc74a57bd0f288b39bbb089d1e320090e367b98f1068b03ad75494a35806e66bc7207a91ef",
   "display_name": "Python 3.8.3 64-bit ('myenv': conda)"
  },
  "metadata": {
   "interpreter": {
    "hash": "f288b39bbb089d1e320090e367b98f1068b03ad75494a35806e66bc7207a91ef"
   }
  }
 },
 "nbformat": 4,
 "nbformat_minor": 2,
 "cells": [
  {
   "cell_type": "code",
   "execution_count": 5,
   "metadata": {},
   "outputs": [],
   "source": [
    "import numpy as np\n",
    "import pandas as pd\n",
    "from sklearn.ensemble import RandomForestClassifier, ExtraTreesClassifier\n",
    "from sklearn.metrics import accuracy_score\n",
    "from datasets import get_dataset, gauss_convolve_instance"
   ]
  },
  {
   "source": [
    "['coin_index', 'open', 'high', 'low', 'close', 'volume', 'up', 'down', 'RSI', 'MA_5min', 'macd', 'macds', 'macdo'"
   ],
   "cell_type": "markdown",
   "metadata": {}
  },
  {
   "cell_type": "code",
   "execution_count": 6,
   "metadata": {},
   "outputs": [],
   "source": [
    "[train_x, train_y], [val_x, val_y], indicate = get_dataset('./data/train_x_15_feature.npy', './data/train_y.npy')"
   ]
  },
  {
   "cell_type": "code",
   "execution_count": 7,
   "metadata": {},
   "outputs": [
    {
     "output_type": "stream",
     "name": "stdout",
     "text": [
      "[[ 4.00000000e+00  9.93490994e-01  9.94522214e-01  9.92459893e-01\n   9.93265510e-01  7.72771189e+04  0.00000000e+00 -2.25484371e-04\n   5.04044854e+01  9.92144132e-01  2.94286659e-04 -6.61673080e-04\n   9.55959739e-04]\n [ 7.00000000e+00  1.05138278e+00  1.05228949e+00  1.04594231e+00\n   1.04654682e+00  6.17918199e+05  0.00000000e+00 -4.83596325e-03\n   5.88984000e+01  1.05017381e+00 -3.87614483e-06  5.24975266e-04\n  -5.28851410e-04]]\n(6128, 78, 13)\n"
     ]
    }
   ],
   "source": [
    "print(train_x[:2, 0])\n",
    "print(train_x.shape)"
   ]
  },
  {
   "cell_type": "code",
   "execution_count": 8,
   "metadata": {},
   "outputs": [],
   "source": [
    "for i in range(train_x.shape[0]):\n",
    "    train_x[i] = gauss_convolve_instance(train_x[i], [1, 5], 0.5)\n",
    "for i in range(val_x.shape[0]):\n",
    "    val_x[i] = gauss_convolve_instance(val_x[i], [1, 5], 0.5)"
   ]
  },
  {
   "cell_type": "code",
   "execution_count": 9,
   "metadata": {},
   "outputs": [],
   "source": [
    "train_df = pd.DataFrame()\n",
    "val_df = pd.DataFrame()"
   ]
  },
  {
   "cell_type": "code",
   "execution_count": 10,
   "metadata": {},
   "outputs": [
    {
     "output_type": "stream",
     "name": "stdout",
     "text": [
      "(6128,) (1533,)\n[1 0 0 ... 1 1 1]\n"
     ]
    }
   ],
   "source": [
    "train_isup = np.where(np.mean(train_y[:, :, 1], axis=1) >= 1, 1, 0)\n",
    "val_isup = np.where(np.mean(val_y[:, :, 1], axis=1) >= 1, 1, 0)\n",
    "\n",
    "print(train_isup.shape, val_isup.shape)\n",
    "print(train_isup)"
   ]
  },
  {
   "cell_type": "code",
   "execution_count": 11,
   "metadata": {},
   "outputs": [],
   "source": [
    "train_df['mean_price'] = np.mean(train_x[:, :, 1], axis=1)\n",
    "val_df['mean_price'] = np.mean(val_x[:, :, 1], axis=1)\n",
    "\n",
    "train_df['max_price'] = np.max(train_x[:, :, 2], axis=1)\n",
    "val_df['max_price'] = np.max(val_x[:, :, 2], axis=1)\n",
    "\n",
    "train_df['min_price'] = np.min(train_x[:, :, 3], axis=1)\n",
    "val_df['min_price'] = np.min(val_x[:, :, 3], axis=1)"
   ]
  },
  {
   "cell_type": "code",
   "execution_count": 12,
   "metadata": {},
   "outputs": [],
   "source": [
    "train_df['max_diff_inc'] = np.max(train_x[:, :, 2] - train_x[:, :, 3], axis=1)\n",
    "val_df['max_diff_inc'] = np.max(val_x[:, :, 2] - val_x[:, :, 3], axis=1)\n",
    "\n",
    "train_df['max_diff_dec'] = np.min(train_x[:, :, 2] - train_x[:, :, 3], axis=1)\n",
    "val_df['max_diff_dec'] = np.min(val_x[:, :, 2] - val_x[:, :, 3], axis=1)\n",
    "\n",
    "train_df['vol_div'] = np.max(train_x[:, :, 5], axis=1) / np.median(train_x[:, :, 5], axis=1)\n",
    "val_df['vol_div'] = np.max(val_x[:, :, 5], axis=1) / np.median(val_x[:, :, 5], axis=1)"
   ]
  },
  {
   "cell_type": "code",
   "execution_count": 13,
   "metadata": {},
   "outputs": [],
   "source": [
    "train_df['mean_rsi'] = np.mean(train_x[:, :, 8], axis=1)\n",
    "val_df['mean_rsi'] = np.mean(val_x[:, :, 8], axis=1)\n",
    "\n",
    "train_df['max_rsi'] = np.max(train_x[:, :, 8], axis=1)\n",
    "val_df['max_rsi'] = np.max(val_x[:, :, 8], axis=1)\n",
    "\n",
    "train_df['min_rsi'] = np.min(train_x[:, :, 8], axis=1)\n",
    "val_df['min_rsi'] = np.min(val_x[:, :, 8], axis=1)\n",
    "\n",
    "train_df['median_rsi'] = np.median(train_x[:, :, 8], axis=1)\n",
    "val_df['median_rsi'] = np.median(val_x[:, :, 8], axis=1)"
   ]
  },
  {
   "cell_type": "code",
   "execution_count": 14,
   "metadata": {},
   "outputs": [],
   "source": [
    "train_df['max_rsi_later'] = np.max(train_x[:, -10:, 8], axis=1)\n",
    "val_df['max_rsi_later'] = np.max(val_x[:, -10:, 8], axis=1)\n",
    "\n",
    "train_df['min_rsi_later'] = np.min(train_x[:, -10:, 8], axis=1)\n",
    "val_df['min_rsi_later'] = np.min(val_x[:, -10:, 8], axis=1)"
   ]
  },
  {
   "cell_type": "code",
   "execution_count": 15,
   "metadata": {},
   "outputs": [],
   "source": [
    "train_df['up_count'] = np.count_nonzero(train_x[:, :, 6], axis=1)\n",
    "val_df['up_count'] = np.count_nonzero(val_x[:, :, 6], axis=1)"
   ]
  },
  {
   "cell_type": "code",
   "execution_count": 16,
   "metadata": {},
   "outputs": [],
   "source": [
    "train_df['mean_ma'] = np.mean(train_x[:, :, 9], axis=1)\n",
    "val_df['mean_ma'] = np.mean(val_x[:, :, 9], axis=1)\n",
    "\n",
    "train_df['max_ma'] = np.max(train_x[:, :, 9], axis=1)\n",
    "val_df['max_ma'] = np.max(val_x[:, :, 9], axis=1)\n",
    "\n",
    "train_df['min_ma'] = np.min(train_x[:, :, 9], axis=1)\n",
    "val_df['min_ma'] = np.min(val_x[:, :, 9], axis=1)\n",
    "\n",
    "train_df['median_ma'] = np.median(train_x[:, :, 9], axis=1)\n",
    "val_df['median_ma'] = np.median(val_x[:, :, 9], axis=1)\n",
    "\n",
    "train_df['max_ma_later'] = np.max(train_x[:, -10:, 9], axis=1)\n",
    "val_df['max_ma_later'] = np.max(val_x[:, -10:, 9], axis=1)\n",
    "\n",
    "train_df['min_ma_later'] = np.min(train_x[:, -10:, 9], axis=1)\n",
    "val_df['min_ma_later'] = np.min(val_x[:, -10:, 9], axis=1)"
   ]
  },
  {
   "cell_type": "code",
   "execution_count": 17,
   "metadata": {},
   "outputs": [],
   "source": [
    "train_df['mean_macd'] = np.mean(train_x[:, :, 10], axis=1)\n",
    "val_df['mean_macd'] = np.mean(val_x[:, :, 10], axis=1)\n",
    "\n",
    "train_df['max_macd'] = np.max(train_x[:, :, 10], axis=1)\n",
    "val_df['max_macd'] = np.max(val_x[:, :, 10], axis=1)\n",
    "\n",
    "train_df['min_macd'] = np.min(train_x[:, :, 10], axis=1)\n",
    "val_df['min_macd'] = np.min(val_x[:, :, 10], axis=1)\n",
    "\n",
    "train_df['median_macd'] = np.median(train_x[:, :, 10], axis=1)\n",
    "val_df['median_macd'] = np.median(val_x[:, :, 10], axis=1)\n",
    "\n",
    "train_df['max_macd_later'] = np.max(train_x[:, -10:, 10], axis=1)\n",
    "val_df['max_macd_later'] = np.max(val_x[:, -10:, 10], axis=1)\n",
    "\n",
    "train_df['min_macd_later'] = np.min(train_x[:, -10:, 10], axis=1)\n",
    "val_df['min_macd_later'] = np.min(val_x[:, -10:, 10], axis=1)"
   ]
  },
  {
   "cell_type": "code",
   "execution_count": 18,
   "metadata": {},
   "outputs": [
    {
     "output_type": "stream",
     "name": "stdout",
     "text": [
      "   mean_price  max_price  min_price  max_diff_inc  max_diff_dec    vol_div  \\\n0    0.996453   1.005993   0.987369      0.012631      0.000483   2.751671   \n1    0.999886   1.054708   0.942119      0.040351      0.001662  13.682935   \n2    0.984641   1.006193   0.960857      0.014995      0.003065   1.997325   \n3    1.042109   1.151013   0.951197      0.078269      0.000000  17.665445   \n4    0.999822   1.018654   0.973989      0.020749      0.001569   6.368645   \n5    1.048264   1.091436   0.994925      0.037606      0.006139   5.160394   \n6    1.004550   1.019916   0.981486      0.017023      0.001831   3.715223   \n7    0.971797   1.057162   0.845185      0.077138      0.005608   3.462215   \n8    0.996380   1.018927   0.971609      0.031546      0.000000  19.302077   \n9    0.983371   1.017694   0.950723      0.031655      0.003015   4.328784   \n\n    mean_rsi    max_rsi    min_rsi  median_rsi  ...    min_ma  median_ma  \\\n0  55.810513  80.777827  29.401896   55.657287  ...  0.992144   0.995995   \n1  45.022330  84.429925  12.480576   43.969722  ...  0.966178   0.993819   \n2  51.952472  85.671358  16.891916   50.990421  ...  0.967305   0.982798   \n3  41.652459  88.461529  17.424156   41.832271  ...  0.964641   1.053775   \n4  52.039912  83.428027  14.787737   50.572497  ...  0.986254   1.000423   \n5  46.860859  80.964607  15.803193   47.257013  ...  1.015087   1.047531   \n6  51.930515  74.995662  20.126503   52.964067  ...  0.991072   1.004900   \n7  41.108722  69.803844   8.123178   40.766145  ...  0.867628   0.991591   \n8  48.980825  71.428591  25.000000   50.000000  ...  0.982334   0.997161   \n9  56.454703  73.722256  33.825382   57.656966  ...  0.954836   0.983914   \n\n   max_ma_later  min_ma_later  mean_macd  max_macd  min_macd  median_macd  \\\n0      1.001953      0.998363   0.000498  0.001836 -0.000755     0.000337   \n1      1.005048      0.996645  -0.004433  0.006660 -0.019567    -0.004153   \n2      0.987505      0.977428   0.000135  0.005225 -0.006398     0.000324   \n3      1.014180      0.976427  -0.012646  0.002522 -0.026142    -0.011558   \n4      1.006971      1.000313   0.000990  0.006142 -0.002769     0.000072   \n5      1.050328      1.015087  -0.001581  0.006879 -0.010496    -0.000686   \n6      1.001382      0.996562   0.000941  0.004494 -0.004296     0.001606   \n7      0.958536      0.867628  -0.010158  0.004946 -0.027741    -0.008560   \n8      1.003785      0.997476  -0.001014  0.003282 -0.006968     0.000085   \n9      0.994954      0.991372   0.002763  0.006154 -0.002144     0.002847   \n\n   max_macd_later  min_macd_later  \n0        0.001750        0.000934  \n1        0.006613        0.002458  \n2        0.002764       -0.000446  \n3        0.002522       -0.013620  \n4        0.001632       -0.000501  \n5       -0.000146       -0.010496  \n6       -0.000751       -0.003445  \n7        0.003171       -0.027741  \n8        0.001999        0.000181  \n9        0.002957        0.001982  \n\n[10 rows x 25 columns]\n"
     ]
    }
   ],
   "source": [
    "print(train_df.head(10))"
   ]
  },
  {
   "cell_type": "code",
   "execution_count": 19,
   "metadata": {},
   "outputs": [],
   "source": [
    "from statsmodels.tsa.arima.model import ARIMA\n",
    "from fbprophet import Prophet"
   ]
  },
  {
   "cell_type": "code",
   "execution_count": 20,
   "metadata": {},
   "outputs": [
    {
     "output_type": "stream",
     "name": "stdout",
     "text": [
      "1.0\n0.5303326810176126\n"
     ]
    }
   ],
   "source": [
    "rf = RandomForestClassifier(n_estimators=100, oob_score=True, random_state=123456)\n",
    "rf.fit(train_df, train_isup)\n",
    "pred = rf.predict(val_df)\n",
    "print(accuracy_score(train_isup, rf.predict(train_df)))\n",
    "print(accuracy_score(val_isup, pred))"
   ]
  },
  {
   "cell_type": "code",
   "execution_count": 21,
   "metadata": {},
   "outputs": [
    {
     "output_type": "stream",
     "name": "stdout",
     "text": [
      "1.0\n0.5355512067840835\n"
     ]
    }
   ],
   "source": [
    "et = ExtraTreesClassifier(n_estimators=100, random_state=123456)\n",
    "et.fit(train_df, train_isup)\n",
    "pred2 =et.predict(val_df)\n",
    "print(accuracy_score(train_isup, rf.predict(train_df)))\n",
    "print(accuracy_score(val_isup, pred2))"
   ]
  },
  {
   "cell_type": "code",
   "execution_count": 24,
   "metadata": {},
   "outputs": [],
   "source": [
    "import pickle\n",
    "with open('./model/isup_rf', 'wb') as f:\n",
    "    pickle.dump(rf, f)\n",
    "with open('./model/isup_et', 'wb') as f:\n",
    "    pickle.dump(et, f)\n",
    "with open('./data/val_df_feature', 'wb') as f:\n",
    "    pickle.dump(val_df, f)"
   ]
  }
 ]
}