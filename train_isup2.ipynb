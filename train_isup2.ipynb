{
 "metadata": {
  "language_info": {
   "codemirror_mode": {
    "name": "ipython",
    "version": 3
   },
   "file_extension": ".py",
   "mimetype": "text/x-python",
   "name": "python",
   "nbconvert_exporter": "python",
   "pygments_lexer": "ipython3",
   "version": "3.7.4"
  },
  "orig_nbformat": 2,
  "kernelspec": {
   "name": "python374jvsc74a57bd0b3ba2566441a7c06988d0923437866b63cedc61552a5af99d1f4fb67d367b25f",
   "display_name": "Python 3.7.4 64-bit ('base': conda)"
  },
  "metadata": {
   "interpreter": {
    "hash": "f288b39bbb089d1e320090e367b98f1068b03ad75494a35806e66bc7207a91ef"
   }
  }
 },
 "nbformat": 4,
 "nbformat_minor": 2,
 "cells": [
  {
   "cell_type": "code",
   "execution_count": 11,
   "metadata": {},
   "outputs": [],
   "source": [
    "import numpy as np\n",
    "import pandas as pd\n",
    "from sklearn.ensemble import RandomForestClassifier\n",
    "from datasets import get_dataset, gauss_convolve_instance"
   ]
  },
  {
   "source": [
    "['coin_index', 'open', 'high', 'low', 'close', 'volume', 'up', 'down', 'RSI', 'MA_5min', 'macd', 'macds', 'macdo'"
   ],
   "cell_type": "markdown",
   "metadata": {}
  },
  {
   "cell_type": "code",
   "execution_count": 6,
   "metadata": {},
   "outputs": [],
   "source": [
    "[train_x, train_y], [val_x, val_y], indicate = get_dataset('./data/train_x_15_feature.npy', './data/train_y.npy')"
   ]
  },
  {
   "cell_type": "code",
   "execution_count": 12,
   "metadata": {},
   "outputs": [],
   "source": [
    "for i in range(train_x.shape[0]):\n",
    "    train_x[i] = gauss_convolve_instance(train_x[i], [1, 5], 0.5)\n",
    "for i in range(val_x.shape[0]):\n",
    "    val_x[i] = gauss_convolve_instance(val_x[i], [1, 5], 0.5)"
   ]
  },
  {
   "cell_type": "code",
   "execution_count": 10,
   "metadata": {},
   "outputs": [],
   "source": [
    "train_df = pd.DataFrame()\n",
    "val_df = pd.DataFrame()"
   ]
  },
  {
   "cell_type": "code",
   "execution_count": 14,
   "metadata": {},
   "outputs": [
    {
     "output_type": "stream",
     "name": "stdout",
     "text": [
      "(6128,) (1533,)\n",
      "[0 1 0 ... 0 1 0]\n"
     ]
    }
   ],
   "source": [
    "train_isup = np.where(np.mean(train_y[:, :, 1], axis=1) >= 1, 1, 0)\n",
    "val_isup = np.where(np.mean(val_y[:, :, 1], axis=1) >= 1, 1, 0)\n",
    "\n",
    "print(train_isup.shape, val_isup.shape)\n",
    "print(train_isup)"
   ]
  },
  {
   "cell_type": "code",
   "execution_count": 15,
   "metadata": {},
   "outputs": [],
   "source": [
    "train_df['mean_price'] = np.mean(train_x[:, :, 1], axis=1)\n",
    "val_df['mean_price'] = np.mean(val_x[:, :, 1], axis=1)\n",
    "\n"
   ]
  },
  {
   "cell_type": "code",
   "execution_count": 16,
   "metadata": {},
   "outputs": [
    {
     "output_type": "stream",
     "name": "stdout",
     "text": [
      "   mean_price\n",
      "0    1.032612\n",
      "1    1.002888\n",
      "2    0.990195\n",
      "3    1.004301\n",
      "4    0.993931\n",
      "5    0.999086\n",
      "6    1.023698\n",
      "7    1.005694\n",
      "8    1.012196\n",
      "9    1.002326\n"
     ]
    }
   ],
   "source": [
    "print(train_df.head(10))"
   ]
  },
  {
   "cell_type": "code",
   "execution_count": null,
   "metadata": {},
   "outputs": [],
   "source": []
  }
 ]
}